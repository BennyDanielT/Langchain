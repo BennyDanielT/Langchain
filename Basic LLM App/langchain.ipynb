{
 "cells": [
  {
   "cell_type": "markdown",
   "metadata": {},
   "source": [
    "# A basic application leveraging Langchain Chat Models"
   ]
  },
  {
   "cell_type": "code",
   "execution_count": 1,
   "metadata": {},
   "outputs": [
    {
     "name": "stdout",
     "output_type": "stream",
     "text": [
      "Requirement already satisfied: python-dotenv in c:\\users\\benny\\onedrive\\desktop\\projects\\ai\\langchain\\simple_langchain_app\\myenv\\lib\\site-packages (1.0.1)\n",
      "Note: you may need to restart the kernel to use updated packages.\n"
     ]
    }
   ],
   "source": [
    "pip install python-dotenv"
   ]
  },
  {
   "cell_type": "code",
   "execution_count": 2,
   "metadata": {},
   "outputs": [],
   "source": [
    "from langchain_community.llms import OpenAI\n",
    "from dotenv import load_dotenv\n",
    "import os"
   ]
  },
  {
   "cell_type": "code",
   "execution_count": 14,
   "metadata": {},
   "outputs": [],
   "source": [
    "import os\n",
    "load_dotenv(dotenv_path=\"./.env\")\n",
    "OPENAI_API_KEY = os.getenv(\"OPENAI_API_KEY\")"
   ]
  },
  {
   "cell_type": "code",
   "execution_count": 15,
   "metadata": {},
   "outputs": [],
   "source": [
    "from langchain.chat_models import ChatOpenAI\n",
    "from langchain.schema import SystemMessage, HumanMessage, AIMessage"
   ]
  },
  {
   "cell_type": "code",
   "execution_count": 16,
   "metadata": {},
   "outputs": [],
   "source": [
    "llm = ChatOpenAI(openai_api_key = OPENAI_API_KEY, temperature=0.4, model='gpt-3.5-turbo')"
   ]
  },
  {
   "cell_type": "code",
   "execution_count": 17,
   "metadata": {},
   "outputs": [
    {
     "data": {
      "text/plain": [
       "AIMessage(content='In Computer Science, a protocol refers to a set of rules that govern the communication and data exchange between different devices or systems. Protocols ensure that information is transmitted accurately and efficiently by defining the format, timing, sequencing, and error checking of data packets. Examples of protocols include HTTP for web communication, TCP/IP for internet communication, and SMTP for email communication.', response_metadata={'token_usage': {'completion_tokens': 72, 'prompt_tokens': 70, 'total_tokens': 142}, 'model_name': 'gpt-3.5-turbo', 'system_fingerprint': 'fp_3bc1b5746c', 'finish_reason': 'stop', 'logprobs': None})"
      ]
     },
     "execution_count": 17,
     "metadata": {},
     "output_type": "execute_result"
    }
   ],
   "source": [
    "#Execute a chat conversation\n",
    "llm([SystemMessage(\"You are a Professor in the Faculty of Computer Science at a reputed North American University. Answer any questions relevant to Computer Science, that a student has. If they ask questions irrelevant to Computer Science, reply with 'Boss, this is a Computer Science chatbot...\"),HumanMessage(\"What is a protocol in CS?\")])"
   ]
  },
  {
   "cell_type": "code",
   "execution_count": 18,
   "metadata": {},
   "outputs": [
    {
     "data": {
      "text/plain": [
       "AIMessage(content='Boss, this is a Computer Science chatbot...', response_metadata={'token_usage': {'completion_tokens': 10, 'prompt_tokens': 73, 'total_tokens': 83}, 'model_name': 'gpt-3.5-turbo', 'system_fingerprint': 'fp_3bc1b5746c', 'finish_reason': 'stop', 'logprobs': None})"
      ]
     },
     "execution_count": 18,
     "metadata": {},
     "output_type": "execute_result"
    }
   ],
   "source": [
    "#Execute a chat conversation\n",
    "llm([SystemMessage(\"You are a Professor in the Faculty of Computer Science at a reputed North American University. Answer any questions relevant to Computer Science, that a student has. If they ask questions irrelevant to Computer Science, reply with 'Boss, this is a Computer Science chatbot...\"),HumanMessage(\"Which came first, the Hen or the Egg?\")])"
   ]
  },
  {
   "cell_type": "markdown",
   "metadata": {},
   "source": [
    "## Prompt Templates and Chat Models with Output Parsers"
   ]
  },
  {
   "cell_type": "code",
   "execution_count": 19,
   "metadata": {},
   "outputs": [],
   "source": [
    "from langchain.prompts.chat import ChatPromptTemplate\n",
    "from langchain.schema import BaseOutputParser"
   ]
  },
  {
   "cell_type": "code",
   "execution_count": 20,
   "metadata": {},
   "outputs": [
    {
     "data": {
      "text/plain": [
       "[SystemMessage(content='You are a blog content generator. For any topic or context given, generate a blog with at least 2 headings(sub topics) and examples.'),\n",
       " HumanMessage(content='Write a blog about Geopolitics.')]"
      ]
     },
     "execution_count": 20,
     "metadata": {},
     "output_type": "execute_result"
    }
   ],
   "source": [
    "system_template = \"You are a blog content generator. For any topic or context given, generate a blog with at least 2 headings(sub topics) and examples.\"\n",
    "human_template = \"Write a blog about {topic}.\"\n",
    "chat_prompt_template = ChatPromptTemplate.from_messages([(\"system\",system_template),(\"human\", human_template)])\n",
    "chat_prompt_template.format_messages(topic=\"Geopolitics\")"
   ]
  },
  {
   "cell_type": "code",
   "execution_count": 21,
   "metadata": {},
   "outputs": [],
   "source": [
    "class BlogParser(BaseOutputParser):\n",
    "     def parse(self, data):\n",
    "        return data.strip().split(\"\\n\")"
   ]
  },
  {
   "cell_type": "code",
   "execution_count": 22,
   "metadata": {},
   "outputs": [],
   "source": [
    "chain = chat_prompt_template|llm|BlogParser()"
   ]
  },
  {
   "cell_type": "code",
   "execution_count": 23,
   "metadata": {},
   "outputs": [
    {
     "data": {
      "text/plain": [
       "['Title: Unraveling the History of American Geopolitics',\n",
       " '',\n",
       " 'Introduction:',\n",
       " 'American geopolitics has played a crucial role in shaping the global landscape for centuries. From the Monroe Doctrine to the Cold War era, the United States has wielded its power and influence to assert its interests across the world. In this blog post, we will delve into the history of American geopolitics, exploring key events, strategies, and their impact on global affairs.',\n",
       " '',\n",
       " '1. The Monroe Doctrine: A Foundation of American Geopolitics',\n",
       " 'The Monroe Doctrine, articulated by President James Monroe in 1823, laid the groundwork for American foreign policy in the Western Hemisphere. The doctrine asserted that the United States would not tolerate European intervention or colonization in the Americas. This policy aimed to protect newly independent Latin American countries from European influence and establish the United States as a dominant power in the region.',\n",
       " '',\n",
       " 'Example: In the late 19th and early 20th centuries, the Monroe Doctrine was invoked to justify U.S. intervention in Latin American countries such as Cuba, Puerto Rico, and Panama. This intervention often took the form of military interventions, economic coercion, and political meddling, shaping the political landscape of the region for decades to come.',\n",
       " '',\n",
       " '2. The Cold War: A Global Battleground for American Geopolitics',\n",
       " 'The Cold War, a period of geopolitical tension between the United States and the Soviet Union from the late 1940s to the early 1990s, was a defining moment in American geopolitics. The United States and the Soviet Union engaged in a global struggle for influence, with each side seeking to expand its sphere of influence and promote its ideological agenda.',\n",
       " '',\n",
       " 'Example: The Cuban Missile Crisis of 1962 was a pivotal moment in the Cold War, as the United States and the Soviet Union came to the brink of nuclear war over the presence of Soviet missiles in Cuba. The crisis highlighted the high stakes of superpower competition and the importance of strategic alliances and deterrence in American geopolitics.',\n",
       " '',\n",
       " 'Conclusion:',\n",
       " 'The history of American geopolitics is a complex tapestry of power, influence, and strategic maneuvering. From the Monroe Doctrine to the Cold War era, the United States has wielded its power to shape the global landscape and assert its interests. By understanding the key events and strategies that have defined American geopolitics, we can gain insight into the dynamics of global power and the enduring impact of U.S. foreign policy on the world stage.']"
      ]
     },
     "execution_count": 23,
     "metadata": {},
     "output_type": "execute_result"
    }
   ],
   "source": [
    "chain.invoke({\"topic\":\"History of American Geopolitics\"})"
   ]
  }
 ],
 "metadata": {
  "kernelspec": {
   "display_name": "Python 3 (ipykernel)",
   "language": "python",
   "name": "python3"
  },
  "language_info": {
   "codemirror_mode": {
    "name": "ipython",
    "version": 3
   },
   "file_extension": ".py",
   "mimetype": "text/x-python",
   "name": "python",
   "nbconvert_exporter": "python",
   "pygments_lexer": "ipython3",
   "version": "3.10.4"
  }
 },
 "nbformat": 4,
 "nbformat_minor": 4
}
